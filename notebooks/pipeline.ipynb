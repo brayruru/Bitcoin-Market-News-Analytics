{
 "cells": [
  {
   "cell_type": "markdown",
   "id": "d24f69fb",
   "metadata": {},
   "source": [
    "# 📥 Ingesta de Datos (Bronze Layer)\n",
    "## Bitcoin Price API"
   ]
  },
  {
   "cell_type": "code",
   "execution_count": null,
   "id": "4e1d8d0d",
   "metadata": {},
   "outputs": [],
   "source": [
    "import sys\n",
    "import os\n",
    "\n",
    "# Crear carpeta logs si no existe\n",
    "os.makedirs(\"./logs\", exist_ok=True)\n",
    "os.makedirs(\"./db\", exist_ok=True)\n",
    "\n",
    "sys.path.append(os.path.abspath(\"../src\"))\n",
    "\n",
    "from ingestion import fetch_bitcoin_price , fetch_bitcoin_hourly_prices\n",
    "from utils import log_and_print ,save_to_db\n",
    "\n",
    "btc_df = fetch_bitcoin_hourly_prices()\n",
    "save_to_db(btc_df, \"btc_price_bronze\")\n",
    "log_and_print(\"Bitcoin price saved to Bronze\")"
   ]
  },
  {
   "cell_type": "markdown",
   "id": "c17c6782",
   "metadata": {},
   "source": [
    "## Noticias CSV"
   ]
  },
  {
   "cell_type": "code",
   "execution_count": null,
   "id": "5c796b07",
   "metadata": {},
   "outputs": [],
   "source": [
    "import pandas as pd\n",
    "news_df = pd.read_csv(\"../data/news_api.csv\")\n",
    "save_to_db(news_df, \"btc_news_bronze\")\n",
    "log_and_print(\"News data saved to Bronze\")"
   ]
  },
  {
   "cell_type": "markdown",
   "id": "177cdb25",
   "metadata": {},
   "source": [
    "# 🧼 Limpieza y Normalización (Silver Layer)"
   ]
  },
  {
   "cell_type": "code",
   "execution_count": null,
   "id": "2b0030b5",
   "metadata": {},
   "outputs": [],
   "source": [
    "import sys\n",
    "import os\n",
    "\n",
    "sys.path.append(os.path.abspath(\"../src\"))\n",
    "\n",
    "from processing import clean_news_data, clean_price_data\n",
    "\n",
    "btc_price_silver = clean_price_data(btc_df)\n",
    "save_to_db(btc_price_silver, \"btc_price_silver\")\n",
    "\n",
    "news_silver = clean_news_data(news_df)\n",
    "save_to_db(news_silver, \"btc_news_silver\")\n",
    "log_and_print(\"Data cleaned and saved to Silver\")"
   ]
  },
  {
   "cell_type": "markdown",
   "id": "ee06bd03",
   "metadata": {},
   "source": [
    "# 🧠 Feature Engineering (Gold Layer)"
   ]
  },
  {
   "cell_type": "code",
   "execution_count": null,
   "id": "283b1314",
   "metadata": {},
   "outputs": [],
   "source": [
    "import sys\n",
    "import os\n",
    "sys.path.append(os.path.abspath(\"../src\"))\n",
    "\n",
    "from processing import add_indicators, extract_keywords  , compute_aggregated_metrics       \n",
    "\n",
    "btc_price_gold = add_indicators(btc_price_silver)\n",
    "save_to_db(btc_price_gold, \"btc_price_gold\")\n",
    "\n",
    "news_gold = extract_keywords(news_silver)\n",
    "save_to_db(news_gold, \"btc_news_gold\")\n",
    "log_and_print(\"Feature engineering complete\")\n",
    "\n",
    "gold_metrics = compute_aggregated_metrics(news_gold)\n",
    "save_to_db(gold_metrics, \"btc_news_metrics_gold\")\n",
    "log_and_print(\"Aggregated metrics saved to Gold layer\")"
   ]
  },
  {
   "cell_type": "markdown",
   "id": "e5788338",
   "metadata": {},
   "source": []
  },
  {
   "cell_type": "markdown",
   "id": "b0811695",
   "metadata": {},
   "source": [
    "# 💹 Estrategia de Trading (SMA vs EMA)"
   ]
  },
  {
   "cell_type": "code",
   "execution_count": null,
   "id": "cefca726",
   "metadata": {},
   "outputs": [],
   "source": [
    "btc_trading = btc_price_gold.copy()\n",
    "btc_trading[\"signal\"] = 0\n",
    "btc_trading.loc[btc_trading[\"ema_5\"] > btc_trading[\"sma_5\"], \"signal\"] = 1\n",
    "btc_trading.loc[btc_trading[\"ema_5\"] < btc_trading[\"sma_5\"], \"signal\"] = -1\n",
    "btc_trading[\"trade_signal\"] = btc_trading[\"signal\"].diff().fillna(0)\n",
    "btc_trading[\"action\"] = btc_trading[\"trade_signal\"].map({1: \"BUY\", -2: \"SELL\"}).fillna(\"HOLD\")\n",
    "\n",
    "save_to_db(btc_trading, \"btc_trading_strategy\")\n",
    "log_and_print(\"Trading strategy saved\")"
   ]
  }
 ],
 "metadata": {
  "kernelspec": {
   "display_name": "Python 3",
   "name": "python3"
  },
  "language_info": {
   "codemirror_mode": {
    "name": "ipython",
    "version": 3
   },
   "file_extension": ".py",
   "mimetype": "text/x-python",
   "name": "python",
   "nbconvert_exporter": "python",
   "pygments_lexer": "ipython3",
   "version": "3.9.6"
  }
 },
 "nbformat": 4,
 "nbformat_minor": 5
}
